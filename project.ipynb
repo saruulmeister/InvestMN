{
 "cells": [
  {
   "cell_type": "markdown",
   "id": "polyphonic-contributor",
   "metadata": {},
   "source": [
    "# InvestMN "
   ]
  },
  {
   "cell_type": "code",
   "execution_count": 1,
   "id": "distinct-validation",
   "metadata": {},
   "outputs": [],
   "source": [
    "# openjdk install\n",
    "!apt-get update\n",
    "!apt-get install -y unzip openjdk-8-jre-headless xvfb libxi6 libgconf-2-4\n",
    "\n",
    "# Install Chrome.\n",
    "!apt-get -y install wget\n",
    "!wget http://dl.google.com/linux/chrome/deb/pool/main/g/google-chrome-beta/google-chrome-beta_91.0.4472.27-1_amd64.deb\n",
    "\n",
    "!apt -y install ./google-chrome-beta_91.0.4472.27-1_amd64.deb\n",
    "\n",
    "# Install ChromeDriver.\n",
    "!wget -N https://chromedriver.storage.googleapis.com/79.0.3945.36/chromedriver_linux64.zip -P ~/\n",
    "!unzip ~/chromedriver_linux64.zip -d ~/\n",
    "!rm ~/chromedriver_linux64.zip\n",
    "!mv -f ~/chromedriver /usr/local/bin/chromedriver\n",
    "!chown root:root /usr/local/bin/chromedriver\n",
    "!chmod 0755 /usr/local/bin/chromedriver\n",
    "\n",
    "# Install Selenium\n",
    "!pip install selenium==3.141.0\n",
    "!pip install chromedriver-py==91.0.4472.19\n",
    "!pip install beautifulsoup4\n",
    "!pip install ipdb\n",
    "!pip install pystan==2.19.1.1\n",
    "!pip install prophet\n",
    "!pip install anvil-uplink\n",
    "!pip install cvxpy\n",
    "!pip install cvxopt\n",
    "!pip install PyPortfolioOpt"
   ]
  },
  {
   "cell_type": "code",
   "execution_count": null,
   "id": "stupid-christianity",
   "metadata": {},
   "outputs": [],
   "source": [
    "from chromedriver_py import binary_path\n",
    "from selenium import webdriver\n",
    "from selenium.webdriver.common.action_chains import ActionChains\n",
    "import os\n",
    "import shutil\n",
    "import pandas as pd\n",
    "from bs4 import BeautifulSoup\n",
    "import requests\n",
    "import time \n",
    "import glob\n",
    "import matplotlib.pyplot as plt\n",
    "import numpy as np\n",
    "import sys\n",
    "import plotly.express as px\n",
    "import plotly.graph_objs as go\n",
    "from prophet import Prophet\n",
    "from prophet.plot import plot_plotly, plot_components_plotly\n",
    "import plotly.tools as tls\n",
    "import json"
   ]
  },
  {
   "cell_type": "code",
   "execution_count": null,
   "id": "ultimate-momentum",
   "metadata": {},
   "outputs": [],
   "source": [
    "filepath = 'data'\n",
    "dest = 'data'\n",
    "url_path = 'urls.csv'\n",
    "mse_a = pd.read_csv(url_path)\n",
    "mse_a.head()"
   ]
  },
  {
   "cell_type": "code",
   "execution_count": 3,
   "id": "involved-diary",
   "metadata": {},
   "outputs": [],
   "source": [
    "def get_data():\n",
    "    for url in mse_a['URL']:\n",
    "        chrome_options = webdriver.ChromeOptions()\n",
    "        prefs = {\"download.default_directory\" : 'data',\n",
    "                 \"download.prompt_for_download\": False,\n",
    "                 \"download.directory_upgrade\": True}\n",
    "        chrome_options.add_experimental_option(\"prefs\",prefs)\n",
    "        chrome_options.add_argument('--headless')\n",
    "        chrome_options.add_argument('--no-sandbox')\n",
    "        chrome_options.add_argument('--disable-gpu')\n",
    "        chrome_options.add_argument('--window-size=1280x1696')\n",
    "        chrome_options.add_argument('--user-data-dir=/tmp/user-data')\n",
    "        chrome_options.add_argument('--hide-scrollbars')\n",
    "        chrome_options.add_argument('--enable-logging')\n",
    "        chrome_options.add_argument('--log-level=0')\n",
    "        chrome_options.add_argument('--v=99')\n",
    "        chrome_options.add_argument('--single-process')\n",
    "        chrome_options.add_argument('--data-path=/tmp/data-path')\n",
    "        chrome_options.add_argument('--ignore-certificate-errors')\n",
    "        chrome_options.add_argument('--homedir=/tmp')\n",
    "        chrome_options.add_argument('--disk-cache-dir=/tmp/cache-dir')\n",
    "        chrome_options.add_argument('user-agent=Mozilla/5.0 (X11; Linux x86_64) AppleWebKit/537.36 (KHTML, like Gecko) Chrome/61.0.3163.100 Safari/537.36')\n",
    "        driver = webdriver.Chrome(executable_path = binary_path,options=chrome_options)\n",
    "        try:\n",
    "            page_response = requests.get(url, timeout=15)\n",
    "            soup = BeautifulSoup(page_response.content)\n",
    "            symbol = soup.find(id=\"trade_chart\").h1.string.split('(')[-1].split(')')[0]\n",
    "            driver.get(url)\n",
    "            down_arrow = driver.find_element_by_xpath('//*[@id=\"chartdiv\"]/div/div[2]/ul/li/a')\n",
    "            save_as = driver.find_element_by_xpath('//*[@id=\"chartdiv\"]/div/div[2]/ul/li/ul/li[2]/a')\n",
    "            button = driver.find_element_by_xpath('//*[@id=\"chartdiv\"]/div/div[2]/ul/li/ul/li[2]/ul/li[1]/a')\n",
    "            ActionChains(driver).move_to_element(down_arrow).move_to_element(save_as).click(button).perform()\n",
    "            time.sleep(10)\n",
    "            driver.close()\n",
    "            list_of_files = glob.glob(filepath + '/*') # * means all if need specific format then *.csv\n",
    "            latest_file = max(list_of_files, key=os.path.getctime)\n",
    "            os.rename(latest_file, dest + '/' + symbol + '.csv')\n",
    "            time.sleep(10)\n",
    "        except:\n",
    "            print('error on: ' + url)"
   ]
  },
  {
   "cell_type": "code",
   "execution_count": null,
   "id": "matched-animation",
   "metadata": {},
   "outputs": [],
   "source": [
    "get_data()"
   ]
  },
  {
   "cell_type": "markdown",
   "id": "derived-rough",
   "metadata": {
    "tags": []
   },
   "source": [
    "# Momentum Strategy"
   ]
  },
  {
   "cell_type": "markdown",
   "id": "freelance-timer",
   "metadata": {},
   "source": [
    "- A buy signal occurs when the shorter lookback rolling mean (moving average) overshoots the longer moving average.\n",
    "- A sell signal occurs when the shorter moving average dips below the longer moving average."
   ]
  },
  {
   "cell_type": "markdown",
   "id": "intended-digest",
   "metadata": {},
   "source": [
    "### Creating a function to signal when to buy and sell the stock"
   ]
  },
  {
   "cell_type": "code",
   "execution_count": 5,
   "id": "tender-procurement",
   "metadata": {},
   "outputs": [
    {
     "name": "stdout",
     "output_type": "stream",
     "text": [
      "error on: .ipynb_checkpoints\n"
     ]
    }
   ],
   "source": [
    "## Momentum Strategy\n",
    "def buy_sell(data):\n",
    "    sigPriceBuy = []\n",
    "    sigPriceSell = []\n",
    "    flag = -1\n",
    "    \n",
    "    for i in range(len(data)):\n",
    "        if data['SMA30'][i] > data['SMA100'][i]:\n",
    "            if flag != 1:\n",
    "                sigPriceBuy.append(data['value'][i])\n",
    "                sigPriceSell.append(np.nan)\n",
    "                flag = 1\n",
    "            else:\n",
    "                sigPriceBuy.append(np.nan)\n",
    "                sigPriceSell.append(np.nan)\n",
    "        elif data['SMA30'][i] < data['SMA100'][i]:\n",
    "            if flag != 0:\n",
    "                sigPriceBuy.append(np.nan)\n",
    "                sigPriceSell.append(data['value'][i])\n",
    "                flag = 0\n",
    "            else:\n",
    "                sigPriceBuy.append(np.nan)\n",
    "                sigPriceSell.append(np.nan)\n",
    "        else:\n",
    "            sigPriceBuy.append(np.nan)\n",
    "            sigPriceSell.append(np.nan)\n",
    "    \n",
    "    return (sigPriceBuy, sigPriceSell)"
   ]
  },
  {
   "cell_type": "markdown",
   "id": "framed-communication",
   "metadata": {},
   "source": [
    "### Formulating Trading Strategy (SMAC)"
   ]
  },
  {
   "cell_type": "code",
   "execution_count": null,
   "id": "starting-language",
   "metadata": {},
   "outputs": [],
   "source": [
    "import anvil.server\n",
    "import anvil.mpl_util\n",
    "\n",
    "anvil.server.connect(\"GVJYCJ6HX42BEZG6FR2FQBEN-UB3GQ5B2IA2KQ32O\")\n",
    "\n",
    "@anvil.server.callable\n",
    "def load_data(symbol):\n",
    "    df= pd.read_csv('data/'+symbol+'.csv')\n",
    "    df['SMA30'] = df['value'].rolling(window = 30).mean()\n",
    "    df['SMA100'] = df['value'].rolling(window = 100).mean()\n",
    "    bs = buy_sell(df)\n",
    "    df['Buy_Signal_Price'] = bs[0]\n",
    "    df['Sell_Signal_Price'] = bs[1]\n",
    "    array = df.to_numpy()\n",
    "    date = array[:,0]\n",
    "    value = array[:,1]\n",
    "    SMA30 = array[:,3]\n",
    "    SMA100 = array[:,4]\n",
    "    buy_signal = array[:,5]\n",
    "    sell_signal = array[:,6]\n",
    "    return date, value, SMA30, SMA100, buy_signal, sell_signal"
   ]
  },
  {
   "cell_type": "markdown",
   "id": "expanded-channel",
   "metadata": {},
   "source": [
    "# Portfolio Optimization"
   ]
  },
  {
   "cell_type": "code",
   "execution_count": null,
   "id": "recent-questionnaire",
   "metadata": {},
   "outputs": [],
   "source": [
    "from pypfopt.efficient_frontier import EfficientFrontier\n",
    "from pypfopt import risk_models\n",
    "from pypfopt import expected_returns\n",
    "from pypfopt.discrete_allocation import DiscreteAllocation, get_latest_prices\n",
    "from functools import reduce"
   ]
  },
  {
   "cell_type": "code",
   "execution_count": null,
   "id": "removed-consequence",
   "metadata": {},
   "outputs": [],
   "source": [
    "@anvil.server.callable\n",
    "def optimize(symbols,investment):\n",
    "    df_merged = pd.DataFrame(columns = ['date'])\n",
    "    df_merged = df_merged.set_index('date')\n",
    "\n",
    "    for item in symbols:\n",
    "        temp_df = pd.read_csv('data/'+item+'.csv')\n",
    "        temp_df = temp_df.set_index('date')\n",
    "        temp_df = temp_df.drop(columns = {'volume'}).rename(columns = {'value': item})\n",
    "        df_merged = pd.merge(df_merged, temp_df, how='outer', on='date')\n",
    "    #df_merged = df_merged.dropna()\n",
    "\n",
    "    #portfolio:\n",
    "    mu = expected_returns.mean_historical_return(df_merged)\n",
    "    S = risk_models.sample_cov(df_merged)\n",
    "    ef = EfficientFrontier(mu,S)\n",
    "    ef.add_constraint(lambda w: sum(w) == 1)\n",
    "    weights = ef.max_sharpe()\n",
    "    var = ef.portfolio_performance(verbose=True)\n",
    "\n",
    "    #Allocation\n",
    "    latest_prices = get_latest_prices(df_merged)\n",
    "    da = DiscreteAllocation(weights,latest_prices,total_portfolio_value = investment)\n",
    "    allocation,leftover = da.lp_portfolio()\n",
    "\n",
    "    return var,weights, allocation, leftover"
   ]
  },
  {
   "cell_type": "markdown",
   "id": "stopped-principle",
   "metadata": {},
   "source": [
    "# Stock Price Prediction"
   ]
  },
  {
   "cell_type": "code",
   "execution_count": null,
   "id": "cloudy-browser",
   "metadata": {},
   "outputs": [],
   "source": [
    "@anvil.server.callable\n",
    "def prophet_data(symbol):\n",
    "    data = pd.read_csv('data/'+symbol+'.csv')\n",
    "    data['date'] = pd.to_datetime(data['date'])\n",
    "    data = data.drop(columns = ['volume']).rename(columns={\"date\": \"ds\", \"value\": \"y\"})\n",
    "    data = data[data['ds'].dt.dayofweek < 5]\n",
    "    m = Prophet(interval_width=0.95, weekly_seasonality= False)\n",
    "    m.add_seasonality(name = 'monthly', period=30.5, fourier_order=5)\n",
    "    m.fit(data)\n",
    "    future = m.make_future_dataframe(periods=365)\n",
    "    forecast = m.predict(future)\n",
    "    #the main one\n",
    "    fig = plot_plotly(m,forecast,xlabel = 'Огноо',ylabel = 'Хувьцааны үнэ (₮)', trend =True )\n",
    "    fig1 = fig.to_json()\n",
    "    fig_data =  json.loads(fig1)['data']\n",
    "    fig_layout = json.loads(fig1)['layout']\n",
    "    #the seasonality\n",
    "    sea = m.plot_components(forecast).savefig(os.devnull)\n",
    "    return fig1,fig_data, fig_layout, anvil.mpl_util.plot_image()"
   ]
  }
 ],
 "metadata": {
  "kernelspec": {
   "display_name": "Python 3",
   "language": "python",
   "name": "python3"
  },
  "language_info": {
   "codemirror_mode": {
    "name": "ipython",
    "version": 3
   },
   "file_extension": ".py",
   "mimetype": "text/x-python",
   "name": "python",
   "nbconvert_exporter": "python",
   "pygments_lexer": "ipython3",
   "version": "3.8.8"
  }
 },
 "nbformat": 4,
 "nbformat_minor": 5
}
